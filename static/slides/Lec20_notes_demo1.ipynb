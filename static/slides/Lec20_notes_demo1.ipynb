{
 "cells": [
  {
   "cell_type": "code",
   "execution_count": 15,
   "metadata": {},
   "outputs": [],
   "source": [
    "import numpy as np\n",
    "import pandas as pd\n",
    "import seaborn as sns\n",
    "import pymc3 as pm\n",
    "import arviz as az\n",
    "import matplotlib.pyplot as plt"
   ]
  },
  {
   "cell_type": "markdown",
   "metadata": {},
   "source": [
    "# Demo 1 - Bayesian Lasso"
   ]
  },
  {
   "cell_type": "code",
   "execution_count": 16,
   "metadata": {},
   "outputs": [],
   "source": [
    "n = 50\n",
    "k = 100\n",
    "\n",
    "np.random.seed(1234)\n",
    "X = np.random.normal(size=(n, k))\n",
    "\n",
    "beta = np.zeros(shape=k)\n",
    "beta[[10,30,50,70]] =  10\n",
    "beta[[20,40,60,80]] = -10\n",
    "\n",
    "y = X @ beta + np.random.normal(size=n)"
   ]
  },
  {
   "cell_type": "markdown",
   "metadata": {},
   "source": [
    "## Naive Model"
   ]
  },
  {
   "cell_type": "code",
   "execution_count": 17,
   "metadata": {},
   "outputs": [
    {
     "name": "stderr",
     "output_type": "stream",
     "text": [
      "Auto-assigning NUTS sampler...\n",
      "Initializing NUTS using jitter+adapt_diag...\n",
      "Multiprocess sampling (4 chains in 4 jobs)\n",
      "NUTS: [sigma, beta]\n"
     ]
    },
    {
     "data": {
      "text/html": [
       "\n",
       "<style>\n",
       "    /* Turns off some styling */\n",
       "    progress {\n",
       "        /* gets rid of default border in Firefox and Opera. */\n",
       "        border: none;\n",
       "        /* Needs to be in here for Safari polyfill so background images work as expected. */\n",
       "        background-size: auto;\n",
       "    }\n",
       "    .progress-bar-interrupted, .progress-bar-interrupted::-webkit-progress-bar {\n",
       "        background: #F44336;\n",
       "    }\n",
       "</style>\n"
      ],
      "text/plain": [
       "<IPython.core.display.HTML object>"
      ]
     },
     "metadata": {},
     "output_type": "display_data"
    },
    {
     "data": {
      "text/html": [
       "\n",
       "    <div>\n",
       "      <progress value='8000' class='' max='8000' style='width:300px; height:20px; vertical-align: middle;'></progress>\n",
       "      100.00% [8000/8000 00:14<00:00 Sampling 4 chains, 2 divergences]\n",
       "    </div>\n",
       "    "
      ],
      "text/plain": [
       "<IPython.core.display.HTML object>"
      ]
     },
     "metadata": {},
     "output_type": "display_data"
    },
    {
     "name": "stderr",
     "output_type": "stream",
     "text": [
      "Sampling 4 chains for 1_000 tune and 1_000 draw iterations (4_000 + 4_000 draws total) took 19 seconds.\n",
      "There were 2 divergences after tuning. Increase `target_accept` or reparameterize.\n",
      "The acceptance probability does not match the target. It is 0.878942077718847, but should be close to 0.8. Try to increase the number of tuning steps.\n",
      "The estimated number of effective samples is smaller than 200 for some parameters.\n"
     ]
    }
   ],
   "source": [
    "with pm.Model() as bayes_lasso:\n",
    "  b = pm.Laplace(\"beta\", 0, 1, shape=k)#lam*tau, shape=k)\n",
    "  y_est = X @ b\n",
    "\n",
    "  s = pm.HalfNormal('sigma', sd=1)\n",
    "\n",
    "  likelihood = pm.Normal(\"y\", mu=y_est, sigma=s, observed=y)\n",
    "\n",
    "with bayes_lasso:\n",
    "  trace = pm.sample(return_inferencedata=True, random_seed=1234)"
   ]
  },
  {
   "cell_type": "code",
   "execution_count": 18,
   "metadata": {},
   "outputs": [
    {
     "data": {
      "text/html": [
       "<div>\n",
       "<style scoped>\n",
       "    .dataframe tbody tr th:only-of-type {\n",
       "        vertical-align: middle;\n",
       "    }\n",
       "\n",
       "    .dataframe tbody tr th {\n",
       "        vertical-align: top;\n",
       "    }\n",
       "\n",
       "    .dataframe thead th {\n",
       "        text-align: right;\n",
       "    }\n",
       "</style>\n",
       "<table border=\"1\" class=\"dataframe\">\n",
       "  <thead>\n",
       "    <tr style=\"text-align: right;\">\n",
       "      <th></th>\n",
       "      <th>mean</th>\n",
       "      <th>sd</th>\n",
       "      <th>hdi_3%</th>\n",
       "      <th>hdi_97%</th>\n",
       "      <th>mcse_mean</th>\n",
       "      <th>mcse_sd</th>\n",
       "      <th>ess_bulk</th>\n",
       "      <th>ess_tail</th>\n",
       "      <th>r_hat</th>\n",
       "    </tr>\n",
       "  </thead>\n",
       "  <tbody>\n",
       "    <tr>\n",
       "      <th>beta[0]</th>\n",
       "      <td>0.067</td>\n",
       "      <td>0.861</td>\n",
       "      <td>-1.650</td>\n",
       "      <td>1.681</td>\n",
       "      <td>0.015</td>\n",
       "      <td>0.015</td>\n",
       "      <td>3234.0</td>\n",
       "      <td>1938.0</td>\n",
       "      <td>1.00</td>\n",
       "    </tr>\n",
       "    <tr>\n",
       "      <th>beta[1]</th>\n",
       "      <td>0.215</td>\n",
       "      <td>0.729</td>\n",
       "      <td>-1.133</td>\n",
       "      <td>1.693</td>\n",
       "      <td>0.012</td>\n",
       "      <td>0.013</td>\n",
       "      <td>3632.0</td>\n",
       "      <td>2284.0</td>\n",
       "      <td>1.00</td>\n",
       "    </tr>\n",
       "    <tr>\n",
       "      <th>beta[2]</th>\n",
       "      <td>-0.080</td>\n",
       "      <td>0.852</td>\n",
       "      <td>-1.789</td>\n",
       "      <td>1.501</td>\n",
       "      <td>0.014</td>\n",
       "      <td>0.015</td>\n",
       "      <td>3866.0</td>\n",
       "      <td>2652.0</td>\n",
       "      <td>1.00</td>\n",
       "    </tr>\n",
       "    <tr>\n",
       "      <th>beta[3]</th>\n",
       "      <td>-0.290</td>\n",
       "      <td>0.814</td>\n",
       "      <td>-1.926</td>\n",
       "      <td>1.193</td>\n",
       "      <td>0.016</td>\n",
       "      <td>0.015</td>\n",
       "      <td>2870.0</td>\n",
       "      <td>1729.0</td>\n",
       "      <td>1.00</td>\n",
       "    </tr>\n",
       "    <tr>\n",
       "      <th>beta[4]</th>\n",
       "      <td>0.079</td>\n",
       "      <td>0.809</td>\n",
       "      <td>-1.479</td>\n",
       "      <td>1.691</td>\n",
       "      <td>0.014</td>\n",
       "      <td>0.014</td>\n",
       "      <td>3577.0</td>\n",
       "      <td>2158.0</td>\n",
       "      <td>1.00</td>\n",
       "    </tr>\n",
       "    <tr>\n",
       "      <th>...</th>\n",
       "      <td>...</td>\n",
       "      <td>...</td>\n",
       "      <td>...</td>\n",
       "      <td>...</td>\n",
       "      <td>...</td>\n",
       "      <td>...</td>\n",
       "      <td>...</td>\n",
       "      <td>...</td>\n",
       "      <td>...</td>\n",
       "    </tr>\n",
       "    <tr>\n",
       "      <th>beta[96]</th>\n",
       "      <td>0.106</td>\n",
       "      <td>0.726</td>\n",
       "      <td>-1.271</td>\n",
       "      <td>1.542</td>\n",
       "      <td>0.013</td>\n",
       "      <td>0.013</td>\n",
       "      <td>3471.0</td>\n",
       "      <td>2487.0</td>\n",
       "      <td>1.00</td>\n",
       "    </tr>\n",
       "    <tr>\n",
       "      <th>beta[97]</th>\n",
       "      <td>-0.156</td>\n",
       "      <td>0.716</td>\n",
       "      <td>-1.591</td>\n",
       "      <td>1.160</td>\n",
       "      <td>0.013</td>\n",
       "      <td>0.013</td>\n",
       "      <td>3188.0</td>\n",
       "      <td>1798.0</td>\n",
       "      <td>1.00</td>\n",
       "    </tr>\n",
       "    <tr>\n",
       "      <th>beta[98]</th>\n",
       "      <td>0.289</td>\n",
       "      <td>0.763</td>\n",
       "      <td>-1.076</td>\n",
       "      <td>1.827</td>\n",
       "      <td>0.014</td>\n",
       "      <td>0.015</td>\n",
       "      <td>3107.0</td>\n",
       "      <td>2408.0</td>\n",
       "      <td>1.00</td>\n",
       "    </tr>\n",
       "    <tr>\n",
       "      <th>beta[99]</th>\n",
       "      <td>-0.278</td>\n",
       "      <td>0.768</td>\n",
       "      <td>-1.747</td>\n",
       "      <td>1.205</td>\n",
       "      <td>0.013</td>\n",
       "      <td>0.013</td>\n",
       "      <td>3575.0</td>\n",
       "      <td>2568.0</td>\n",
       "      <td>1.00</td>\n",
       "    </tr>\n",
       "    <tr>\n",
       "      <th>sigma</th>\n",
       "      <td>0.980</td>\n",
       "      <td>0.478</td>\n",
       "      <td>0.275</td>\n",
       "      <td>1.859</td>\n",
       "      <td>0.046</td>\n",
       "      <td>0.032</td>\n",
       "      <td>102.0</td>\n",
       "      <td>211.0</td>\n",
       "      <td>1.05</td>\n",
       "    </tr>\n",
       "  </tbody>\n",
       "</table>\n",
       "<p>101 rows × 9 columns</p>\n",
       "</div>"
      ],
      "text/plain": [
       "           mean     sd  hdi_3%  hdi_97%  mcse_mean  mcse_sd  ess_bulk  \\\n",
       "beta[0]   0.067  0.861  -1.650    1.681      0.015    0.015    3234.0   \n",
       "beta[1]   0.215  0.729  -1.133    1.693      0.012    0.013    3632.0   \n",
       "beta[2]  -0.080  0.852  -1.789    1.501      0.014    0.015    3866.0   \n",
       "beta[3]  -0.290  0.814  -1.926    1.193      0.016    0.015    2870.0   \n",
       "beta[4]   0.079  0.809  -1.479    1.691      0.014    0.014    3577.0   \n",
       "...         ...    ...     ...      ...        ...      ...       ...   \n",
       "beta[96]  0.106  0.726  -1.271    1.542      0.013    0.013    3471.0   \n",
       "beta[97] -0.156  0.716  -1.591    1.160      0.013    0.013    3188.0   \n",
       "beta[98]  0.289  0.763  -1.076    1.827      0.014    0.015    3107.0   \n",
       "beta[99] -0.278  0.768  -1.747    1.205      0.013    0.013    3575.0   \n",
       "sigma     0.980  0.478   0.275    1.859      0.046    0.032     102.0   \n",
       "\n",
       "          ess_tail  r_hat  \n",
       "beta[0]     1938.0   1.00  \n",
       "beta[1]     2284.0   1.00  \n",
       "beta[2]     2652.0   1.00  \n",
       "beta[3]     1729.0   1.00  \n",
       "beta[4]     2158.0   1.00  \n",
       "...            ...    ...  \n",
       "beta[96]    2487.0   1.00  \n",
       "beta[97]    1798.0   1.00  \n",
       "beta[98]    2408.0   1.00  \n",
       "beta[99]    2568.0   1.00  \n",
       "sigma        211.0   1.05  \n",
       "\n",
       "[101 rows x 9 columns]"
      ]
     },
     "execution_count": 18,
     "metadata": {},
     "output_type": "execute_result"
    }
   ],
   "source": [
    "az.summary(trace)"
   ]
  },
  {
   "cell_type": "code",
   "execution_count": 19,
   "metadata": {},
   "outputs": [
    {
     "data": {
      "text/html": [
       "<div>\n",
       "<style scoped>\n",
       "    .dataframe tbody tr th:only-of-type {\n",
       "        vertical-align: middle;\n",
       "    }\n",
       "\n",
       "    .dataframe tbody tr th {\n",
       "        vertical-align: top;\n",
       "    }\n",
       "\n",
       "    .dataframe thead th {\n",
       "        text-align: right;\n",
       "    }\n",
       "</style>\n",
       "<table border=\"1\" class=\"dataframe\">\n",
       "  <thead>\n",
       "    <tr style=\"text-align: right;\">\n",
       "      <th></th>\n",
       "      <th>mean</th>\n",
       "      <th>sd</th>\n",
       "      <th>hdi_3%</th>\n",
       "      <th>hdi_97%</th>\n",
       "      <th>mcse_mean</th>\n",
       "      <th>mcse_sd</th>\n",
       "      <th>ess_bulk</th>\n",
       "      <th>ess_tail</th>\n",
       "      <th>r_hat</th>\n",
       "    </tr>\n",
       "  </thead>\n",
       "  <tbody>\n",
       "    <tr>\n",
       "      <th>beta[0]</th>\n",
       "      <td>0.067</td>\n",
       "      <td>0.861</td>\n",
       "      <td>-1.650</td>\n",
       "      <td>1.681</td>\n",
       "      <td>0.015</td>\n",
       "      <td>0.015</td>\n",
       "      <td>3234.0</td>\n",
       "      <td>1938.0</td>\n",
       "      <td>1.00</td>\n",
       "    </tr>\n",
       "    <tr>\n",
       "      <th>beta[10]</th>\n",
       "      <td>8.327</td>\n",
       "      <td>1.242</td>\n",
       "      <td>5.945</td>\n",
       "      <td>10.622</td>\n",
       "      <td>0.027</td>\n",
       "      <td>0.019</td>\n",
       "      <td>2075.0</td>\n",
       "      <td>2710.0</td>\n",
       "      <td>1.00</td>\n",
       "    </tr>\n",
       "    <tr>\n",
       "      <th>beta[20]</th>\n",
       "      <td>-8.288</td>\n",
       "      <td>1.335</td>\n",
       "      <td>-10.697</td>\n",
       "      <td>-5.733</td>\n",
       "      <td>0.030</td>\n",
       "      <td>0.021</td>\n",
       "      <td>2003.0</td>\n",
       "      <td>1746.0</td>\n",
       "      <td>1.00</td>\n",
       "    </tr>\n",
       "    <tr>\n",
       "      <th>beta[30]</th>\n",
       "      <td>8.610</td>\n",
       "      <td>1.023</td>\n",
       "      <td>6.678</td>\n",
       "      <td>10.447</td>\n",
       "      <td>0.023</td>\n",
       "      <td>0.017</td>\n",
       "      <td>2011.0</td>\n",
       "      <td>1702.0</td>\n",
       "      <td>1.00</td>\n",
       "    </tr>\n",
       "    <tr>\n",
       "      <th>beta[40]</th>\n",
       "      <td>-8.765</td>\n",
       "      <td>1.507</td>\n",
       "      <td>-11.485</td>\n",
       "      <td>-5.929</td>\n",
       "      <td>0.030</td>\n",
       "      <td>0.022</td>\n",
       "      <td>2461.0</td>\n",
       "      <td>2531.0</td>\n",
       "      <td>1.00</td>\n",
       "    </tr>\n",
       "    <tr>\n",
       "      <th>beta[50]</th>\n",
       "      <td>8.966</td>\n",
       "      <td>1.016</td>\n",
       "      <td>6.995</td>\n",
       "      <td>10.860</td>\n",
       "      <td>0.023</td>\n",
       "      <td>0.016</td>\n",
       "      <td>2035.0</td>\n",
       "      <td>1842.0</td>\n",
       "      <td>1.00</td>\n",
       "    </tr>\n",
       "    <tr>\n",
       "      <th>beta[60]</th>\n",
       "      <td>-9.248</td>\n",
       "      <td>1.121</td>\n",
       "      <td>-11.381</td>\n",
       "      <td>-7.162</td>\n",
       "      <td>0.022</td>\n",
       "      <td>0.015</td>\n",
       "      <td>2708.0</td>\n",
       "      <td>2371.0</td>\n",
       "      <td>1.00</td>\n",
       "    </tr>\n",
       "    <tr>\n",
       "      <th>beta[70]</th>\n",
       "      <td>8.521</td>\n",
       "      <td>1.210</td>\n",
       "      <td>6.220</td>\n",
       "      <td>10.788</td>\n",
       "      <td>0.026</td>\n",
       "      <td>0.018</td>\n",
       "      <td>2238.0</td>\n",
       "      <td>2575.0</td>\n",
       "      <td>1.00</td>\n",
       "    </tr>\n",
       "    <tr>\n",
       "      <th>beta[80]</th>\n",
       "      <td>-9.923</td>\n",
       "      <td>0.899</td>\n",
       "      <td>-11.634</td>\n",
       "      <td>-8.253</td>\n",
       "      <td>0.018</td>\n",
       "      <td>0.013</td>\n",
       "      <td>2436.0</td>\n",
       "      <td>2003.0</td>\n",
       "      <td>1.00</td>\n",
       "    </tr>\n",
       "    <tr>\n",
       "      <th>sigma</th>\n",
       "      <td>0.980</td>\n",
       "      <td>0.478</td>\n",
       "      <td>0.275</td>\n",
       "      <td>1.859</td>\n",
       "      <td>0.046</td>\n",
       "      <td>0.032</td>\n",
       "      <td>102.0</td>\n",
       "      <td>211.0</td>\n",
       "      <td>1.05</td>\n",
       "    </tr>\n",
       "  </tbody>\n",
       "</table>\n",
       "</div>"
      ],
      "text/plain": [
       "           mean     sd  hdi_3%  hdi_97%  mcse_mean  mcse_sd  ess_bulk  \\\n",
       "beta[0]   0.067  0.861  -1.650    1.681      0.015    0.015    3234.0   \n",
       "beta[10]  8.327  1.242   5.945   10.622      0.027    0.019    2075.0   \n",
       "beta[20] -8.288  1.335 -10.697   -5.733      0.030    0.021    2003.0   \n",
       "beta[30]  8.610  1.023   6.678   10.447      0.023    0.017    2011.0   \n",
       "beta[40] -8.765  1.507 -11.485   -5.929      0.030    0.022    2461.0   \n",
       "beta[50]  8.966  1.016   6.995   10.860      0.023    0.016    2035.0   \n",
       "beta[60] -9.248  1.121 -11.381   -7.162      0.022    0.015    2708.0   \n",
       "beta[70]  8.521  1.210   6.220   10.788      0.026    0.018    2238.0   \n",
       "beta[80] -9.923  0.899 -11.634   -8.253      0.018    0.013    2436.0   \n",
       "sigma     0.980  0.478   0.275    1.859      0.046    0.032     102.0   \n",
       "\n",
       "          ess_tail  r_hat  \n",
       "beta[0]     1938.0   1.00  \n",
       "beta[10]    2710.0   1.00  \n",
       "beta[20]    1746.0   1.00  \n",
       "beta[30]    1702.0   1.00  \n",
       "beta[40]    2531.0   1.00  \n",
       "beta[50]    1842.0   1.00  \n",
       "beta[60]    2371.0   1.00  \n",
       "beta[70]    2575.0   1.00  \n",
       "beta[80]    2003.0   1.00  \n",
       "sigma        211.0   1.05  "
      ]
     },
     "execution_count": 19,
     "metadata": {},
     "output_type": "execute_result"
    }
   ],
   "source": [
    "az.summary(trace).iloc[[0,10,20,30,40,50,60,70,80,100]]"
   ]
  },
  {
   "cell_type": "code",
   "execution_count": null,
   "metadata": {},
   "outputs": [],
   "source": [
    "ax = az.plot_forest(trace)\n",
    "plt.tight_layout()\n",
    "plt.show()"
   ]
  },
  {
   "cell_type": "markdown",
   "metadata": {},
   "source": [
    "#### Plot helper"
   ]
  },
  {
   "cell_type": "code",
   "execution_count": 21,
   "metadata": {},
   "outputs": [],
   "source": [
    "def plot_slope(trace, prior=\"beta\", chain=0):\n",
    "  post = (trace.posterior[prior]\n",
    "          .to_dataframe()\n",
    "          .reset_index()\n",
    "          .query(\"chain == 0\")\n",
    "  )\n",
    "\n",
    "  sns.catplot(x=\"beta_dim_0\", y=\"beta\", data=post, kind=\"boxen\", linewidth=0, color='blue', aspect=2, showfliers=False)\n",
    "  plt.tight_layout()\n",
    "  plt.show()"
   ]
  },
  {
   "cell_type": "code",
   "execution_count": 22,
   "metadata": {},
   "outputs": [
    {
     "data": {
      "image/png": "[encoded data removed]",
      "text/plain": [
       "<Figure size 720x360 with 1 Axes>"
      ]
     },
     "metadata": {
      "needs_background": "light"
     },
     "output_type": "display_data"
    }
   ],
   "source": [
    "plot_slope(trace)"
   ]
  },
  {
   "cell_type": "markdown",
   "metadata": {},
   "source": [
    "## Weakly Informative Prior\n"
   ]
  },
  {
   "cell_type": "code",
   "execution_count": 23,
   "metadata": {},
   "outputs": [
    {
     "name": "stderr",
     "output_type": "stream",
     "text": [
      "Auto-assigning NUTS sampler...\n",
      "Initializing NUTS using jitter+adapt_diag...\n",
      "Multiprocess sampling (4 chains in 4 jobs)\n",
      "NUTS: [sigma, beta]\n"
     ]
    },
    {
     "data": {
      "text/html": [
       "\n",
       "<style>\n",
       "    /* Turns off some styling */\n",
       "    progress {\n",
       "        /* gets rid of default border in Firefox and Opera. */\n",
       "        border: none;\n",
       "        /* Needs to be in here for Safari polyfill so background images work as expected. */\n",
       "        background-size: auto;\n",
       "    }\n",
       "    .progress-bar-interrupted, .progress-bar-interrupted::-webkit-progress-bar {\n",
       "        background: #F44336;\n",
       "    }\n",
       "</style>\n"
      ],
      "text/plain": [
       "<IPython.core.display.HTML object>"
      ]
     },
     "metadata": {},
     "output_type": "display_data"
    },
    {
     "data": {
      "text/html": [
       "\n",
       "    <div>\n",
       "      <progress value='8000' class='' max='8000' style='width:300px; height:20px; vertical-align: middle;'></progress>\n",
       "      100.00% [8000/8000 00:51<00:00 Sampling 4 chains, 17 divergences]\n",
       "    </div>\n",
       "    "
      ],
      "text/plain": [
       "<IPython.core.display.HTML object>"
      ]
     },
     "metadata": {},
     "output_type": "display_data"
    },
    {
     "name": "stderr",
     "output_type": "stream",
     "text": [
      "Sampling 4 chains for 1_000 tune and 1_000 draw iterations (4_000 + 4_000 draws total) took 56 seconds.\n",
      "The acceptance probability does not match the target. It is 0.9760397075294559, but should be close to 0.8. Try to increase the number of tuning steps.\n",
      "The chain reached the maximum tree depth. Increase max_treedepth, increase target_accept or reparameterize.\n",
      "There was 1 divergence after tuning. Increase `target_accept` or reparameterize.\n",
      "There were 15 divergences after tuning. Increase `target_accept` or reparameterize.\n",
      "The acceptance probability does not match the target. It is 0.7066410867916934, but should be close to 0.8. Try to increase the number of tuning steps.\n",
      "There was 1 divergence after tuning. Increase `target_accept` or reparameterize.\n",
      "The acceptance probability does not match the target. It is 0.9310317960474614, but should be close to 0.8. Try to increase the number of tuning steps.\n",
      "The chain reached the maximum tree depth. Increase max_treedepth, increase target_accept or reparameterize.\n",
      "The rhat statistic is larger than 1.05 for some parameters. This indicates slight problems during sampling.\n",
      "The estimated number of effective samples is smaller than 200 for some parameters.\n"
     ]
    }
   ],
   "source": [
    "with pm.Model() as bayes_weak:\n",
    "  b = pm.Normal(\"beta\", 0, 10, shape=k)\n",
    "  y_est = X @ b\n",
    "\n",
    "  s = pm.HalfNormal('sigma', sd=2)\n",
    "\n",
    "  likelihood = pm.Normal(\"y\", mu=y_est, sigma=s, observed=y)\n",
    "\n",
    "with bayes_weak:\n",
    "  trace = pm.sample(return_inferencedata=True, random_seed=12345)"
   ]
  },
  {
   "cell_type": "code",
   "execution_count": 25,
   "metadata": {},
   "outputs": [
    {
     "data": {
      "image/png": "[encoded data removed]",
      "text/plain": [
       "<Figure size 720x360 with 1 Axes>"
      ]
     },
     "metadata": {
      "needs_background": "light"
     },
     "output_type": "display_data"
    }
   ],
   "source": [
    "plot_slope(trace)"
   ]
  }
 ],
 "metadata": {
  "interpreter": {
   "hash": "b0fa6594d8f4cbf19f97940f81e996739fb7646882a419484c72d19e05852a7e"
  },
  "kernelspec": {
   "display_name": "Python 3.9.10 64-bit",
   "language": "python",
   "name": "python3"
  },
  "language_info": {
   "codemirror_mode": {
    "name": "ipython",
    "version": 3
   },
   "file_extension": ".py",
   "mimetype": "text/x-python",
   "name": "python",
   "nbconvert_exporter": "python",
   "pygments_lexer": "ipython3",
   "version": "3.9.10"
  },
  "orig_nbformat": 4
 },
 "nbformat": 4,
 "nbformat_minor": 2
}
